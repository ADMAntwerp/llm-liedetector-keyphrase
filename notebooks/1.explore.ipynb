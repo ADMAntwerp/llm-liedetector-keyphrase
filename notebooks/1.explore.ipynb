{
 "cells": [
  {
   "cell_type": "code",
   "execution_count": null,
   "metadata": {},
   "outputs": [],
   "source": [
    "import pandas as pd \n",
    "import yaml\n",
    "import torch\n",
    "import numpy as np\n",
    "import pickle\n",
    "import random\n",
    "import re\n",
    "from probes import TTPD, LRProbe"
   ]
  },
  {
   "cell_type": "markdown",
   "metadata": {},
   "source": [
    "### Let's double check all formats and see that the conversations look as expected. "
   ]
  },
  {
   "cell_type": "markdown",
   "metadata": {},
   "source": [
    "### Originals"
   ]
  },
  {
   "cell_type": "code",
   "execution_count": null,
   "metadata": {},
   "outputs": [],
   "source": [
    "format=\"original\"\n",
    "key=\"\"\n",
    "path=f\"data/proc/{format}{key}.pkl\"\n",
    "with open(path,\"rb\") as f:\n",
    "    data_dict=pickle.load(f)\n",
    "\n",
    "ds_name=\"cities\"\n",
    "df=data_dict[ds_name]\n",
    "\n",
    "for i in range(10):\n",
    "    idx=random.randrange(len(df))\n",
    "    print(df.loc[idx].prompt, f\"*** LABEL: {df.loc[idx].label}\")\n",
    "    print(\"     \")"
   ]
  },
  {
   "cell_type": "code",
   "execution_count": null,
   "metadata": {},
   "outputs": [],
   "source": [
    "ds_name=\"neg_animal_class\"\n",
    "df=data_dict[ds_name]\n",
    "\n",
    "for i in range(10):\n",
    "    idx=random.randrange(len(df))\n",
    "    print(df.loc[idx].prompt, f\"*** LABEL: {df.loc[idx].label}\")\n",
    "    print(\"     \")"
   ]
  },
  {
   "cell_type": "markdown",
   "metadata": {},
   "source": [
    "### Format 1 "
   ]
  },
  {
   "cell_type": "code",
   "execution_count": null,
   "metadata": {},
   "outputs": [],
   "source": [
    "format=\"format1\"\n",
    "key=\"_none\"\n",
    "path=f\"data/proc/{format}{key}.pkl\"\n",
    "with open(path,\"rb\") as f:\n",
    "    data_dict=pickle.load(f)\n",
    "\n",
    "ds_name=\"element_symb\"\n",
    "df=data_dict[ds_name]\n",
    "for i in range(5):\n",
    "    idx=random.randrange(len(df))\n",
    "    print(df.loc[idx].prompt, f\"*** LABEL: {df.loc[idx].label}\")\n",
    "    print(\"     \")"
   ]
  },
  {
   "cell_type": "code",
   "execution_count": null,
   "metadata": {},
   "outputs": [],
   "source": [
    "format=\"format1\"\n",
    "key=\"_none\"\n",
    "path=f\"data/proc/{format}{key}.pkl\"\n",
    "with open(path,\"rb\") as f:\n",
    "    data_dict=pickle.load(f)\n",
    "\n",
    "ds_name=\"neg_facts\"\n",
    "df=data_dict[ds_name]\n",
    "for i in range(5):\n",
    "    idx=random.randrange(len(df))\n",
    "    print(df.loc[idx].prompt, f\"*** LABEL: {df.loc[idx].label}\")\n",
    "    print(\"     \")"
   ]
  },
  {
   "cell_type": "markdown",
   "metadata": {},
   "source": [
    "### Format 2"
   ]
  },
  {
   "cell_type": "code",
   "execution_count": null,
   "metadata": {},
   "outputs": [],
   "source": [
    "format=\"format2\"\n",
    "key=\"_none\"\n",
    "path=f\"data/proc/{format}{key}.pkl\"\n",
    "with open(path,\"rb\") as f:\n",
    "    data_dict=pickle.load(f)\n",
    "\n",
    "ds_name=\"element_symb\"\n",
    "df=data_dict[ds_name]\n",
    "for i in range(5):\n",
    "    idx=random.randrange(len(df))\n",
    "    print(df.loc[idx].prompt, f\"*** LABEL: {df.loc[idx].label}\")\n",
    "    print(\"     \")"
   ]
  },
  {
   "cell_type": "markdown",
   "metadata": {},
   "source": [
    "### Format 3"
   ]
  },
  {
   "cell_type": "code",
   "execution_count": null,
   "metadata": {},
   "outputs": [],
   "source": [
    "format=\"format3\"\n",
    "key=\"_none\"\n",
    "path=f\"data/proc/{format}{key}.pkl\"\n",
    "with open(path,\"rb\") as f:\n",
    "    data_dict=pickle.load(f)\n",
    "\n",
    "ds_name=\"neg_cities\"\n",
    "df=data_dict[ds_name]\n",
    "for i in range(5):\n",
    "    idx=random.randrange(len(df))\n",
    "    print(df.loc[idx].prompt, f\"*** LABEL: {df.loc[idx].label}\")\n",
    "    print(\"     \")"
   ]
  },
  {
   "cell_type": "markdown",
   "metadata": {},
   "source": [
    "### Format 1 longer"
   ]
  },
  {
   "cell_type": "code",
   "execution_count": null,
   "metadata": {},
   "outputs": [],
   "source": [
    "format=\"format2\"\n",
    "key=\"_longer\"\n",
    "path=f\"data/proc/{format}{key}.pkl\"\n",
    "with open(path,\"rb\") as f:\n",
    "    data_dict=pickle.load(f)\n",
    "\n",
    "ds_name=\"cities\"\n",
    "df=data_dict[ds_name]\n",
    "for i in range(5):\n",
    "    idx=random.randrange(len(df))\n",
    "    print(df.loc[idx].prompt, f\"*** LABEL: {df.loc[idx].label}\")\n",
    "    print(\"     \")"
   ]
  },
  {
   "cell_type": "markdown",
   "metadata": {},
   "source": [
    "### Format 3 keyphrase"
   ]
  },
  {
   "cell_type": "code",
   "execution_count": null,
   "metadata": {},
   "outputs": [],
   "source": [
    "format=\"format3\"\n",
    "key=\"_keyphrase\"\n",
    "path=f\"data/proc/{format}{key}.pkl\"\n",
    "with open(path,\"rb\") as f:\n",
    "    data_dict=pickle.load(f)\n",
    "\n",
    "ds_name=\"neg_animal_class\"\n",
    "df=data_dict[ds_name]\n",
    "for i in range(5):\n",
    "    idx=random.randrange(len(df))\n",
    "    print(df.loc[idx].prompt, f\"*** LABEL: {df.loc[idx].label}\")\n",
    "    print(\"     \")"
   ]
  },
  {
   "cell_type": "markdown",
   "metadata": {},
   "source": [
    "### Format 1 longer + keyphrase"
   ]
  },
  {
   "cell_type": "code",
   "execution_count": null,
   "metadata": {},
   "outputs": [],
   "source": [
    "format=\"format1\"\n",
    "key=\"_longer_keyphrase\"\n",
    "path=f\"data/proc/{format}{key}.pkl\"\n",
    "with open(path,\"rb\") as f:\n",
    "    data_dict=pickle.load(f)\n",
    "\n",
    "ds_name=\"facts\"\n",
    "df=data_dict[ds_name]\n",
    "for i in range(5):\n",
    "    idx=random.randrange(len(df))\n",
    "    print(df.loc[idx].prompt, f\"*** LABEL: {df.loc[idx].label}\")\n",
    "    print(\"     \")"
   ]
  },
  {
   "cell_type": "markdown",
   "metadata": {},
   "source": [
    "### Format 3 longer + keyphrase"
   ]
  },
  {
   "cell_type": "code",
   "execution_count": null,
   "metadata": {},
   "outputs": [],
   "source": [
    "format=\"format3\"\n",
    "key=\"_longer_keyphrase\"\n",
    "path=f\"data/proc/{format}{key}.pkl\"\n",
    "with open(path,\"rb\") as f:\n",
    "    data_dict=pickle.load(f)\n",
    "\n",
    "ds_name=\"facts\"\n",
    "df=data_dict[ds_name]\n",
    "for i in range(5):\n",
    "    idx=random.randrange(len(df))\n",
    "    print(df.loc[idx].prompt, f\"*** LABEL: {df.loc[idx].label}\")\n",
    "    print(\"     \")"
   ]
  },
  {
   "cell_type": "code",
   "execution_count": null,
   "metadata": {},
   "outputs": [],
   "source": [
    "format=\"format2\"\n",
    "key=\"_longer_keyphrase\"\n",
    "path=f\"data/proc/{format}{key}.pkl\"\n",
    "with open(path,\"rb\") as f:\n",
    "    data_dict=pickle.load(f)\n",
    "\n",
    "ds_name=\"neg_facts\"\n",
    "df=data_dict[ds_name]\n",
    "for i in range(5):\n",
    "    idx=random.randrange(len(df))\n",
    "    print(df.loc[idx].prompt, f\"*** LABEL: {df.loc[idx].label}\")\n",
    "    print(\"     \")"
   ]
  },
  {
   "cell_type": "markdown",
   "metadata": {},
   "source": [
    "### Control keyphrase"
   ]
  },
  {
   "cell_type": "code",
   "execution_count": null,
   "metadata": {},
   "outputs": [],
   "source": [
    "format=\"format2\"\n",
    "key=\"_control\"\n",
    "path=f\"data/proc/{format}{key}.pkl\"\n",
    "with open(path,\"rb\") as f:\n",
    "    data_dict=pickle.load(f)\n",
    "\n",
    "ds_name=\"neg_facts\"\n",
    "df=data_dict[ds_name]\n",
    "for i in range(5):\n",
    "    idx=random.randrange(len(df))\n",
    "    print(df.loc[idx].prompt, f\"*** LABEL: {df.loc[idx].label}\")\n",
    "    print(\"     \")"
   ]
  },
  {
   "cell_type": "markdown",
   "metadata": {},
   "source": [
    "### Ok so all formats look as expected. Now let us do some additional checks"
   ]
  },
  {
   "cell_type": "code",
   "execution_count": null,
   "metadata": {},
   "outputs": [],
   "source": [
    "topics=[\"cities\", \"neg_cities\", \"sp_en_trans\", \"neg_sp_en_trans\", \"inventors\", \"neg_inventors\", \"animal_class\", \"neg_animal_class\", \"element_symb\", \"neg_element_symb\", \"facts\", \"neg_facts\"]\n",
    "\n",
    "format=\"original\"\n",
    "key=\"\"\n",
    "path=f\"data/proc/{format}{key}.pkl\"\n",
    "with open(path,\"rb\") as f:\n",
    "    data_dict=pickle.load(f)\n",
    "\n",
    "\n",
    "for ds_name in topics:\n",
    "    df=data_dict[ds_name]\n",
    "    print(df.label.sum(), len(df)-df.label.sum())"
   ]
  },
  {
   "cell_type": "markdown",
   "metadata": {},
   "source": [
    "Original datasets: ok so inventors isn't perfectly balanced but the imbalance is not too bad so keep it. Now lets make sure that the conversational datasets have roughly similar statistics"
   ]
  },
  {
   "cell_type": "code",
   "execution_count": null,
   "metadata": {},
   "outputs": [],
   "source": [
    "\n",
    "\n",
    "format=\"format3\"\n",
    "key=\"_none\"\n",
    "path=f\"data/proc/{format}{key}.pkl\"\n",
    "with open(path,\"rb\") as f:\n",
    "    data_dict=pickle.load(f)\n",
    "\n",
    "\n",
    "for ds_name in topics:\n",
    "    df=data_dict[ds_name]\n",
    "    print(df.label.sum(), len(df)-df.label.sum())"
   ]
  },
  {
   "cell_type": "code",
   "execution_count": null,
   "metadata": {},
   "outputs": [],
   "source": [
    "\n",
    "format=\"format3\"\n",
    "key=\"_longer\"\n",
    "path=f\"data/proc/{format}{key}.pkl\"\n",
    "with open(path,\"rb\") as f:\n",
    "    data_dict=pickle.load(f)\n",
    "\n",
    "\n",
    "for ds_name in topics:\n",
    "    df=data_dict[ds_name]\n",
    "    print(df.label.sum(), len(df)-df.label.sum())"
   ]
  },
  {
   "cell_type": "markdown",
   "metadata": {},
   "source": [
    "Ok so it seems the generated datasets all look good. "
   ]
  },
  {
   "cell_type": "code",
   "execution_count": null,
   "metadata": {},
   "outputs": [],
   "source": [
    "\n"
   ]
  }
 ],
 "metadata": {
  "kernelspec": {
   "display_name": "venv",
   "language": "python",
   "name": "python3"
  },
  "language_info": {
   "codemirror_mode": {
    "name": "ipython",
    "version": 3
   },
   "file_extension": ".py",
   "mimetype": "text/x-python",
   "name": "python",
   "nbconvert_exporter": "python",
   "pygments_lexer": "ipython3",
   "version": "3.13.1"
  }
 },
 "nbformat": 4,
 "nbformat_minor": 2
}
